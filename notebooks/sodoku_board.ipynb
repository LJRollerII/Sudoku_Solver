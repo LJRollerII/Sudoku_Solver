{
 "cells": [
  {
   "cell_type": "code",
   "execution_count": null,
   "id": "d6ed75c8",
   "metadata": {},
   "outputs": [],
   "source": [
    "#To successfully create this sodoku solver we'll need:\n",
    "#1:A function that picks an empty square.\n",
    "#2:Attempt to place digits 1-9 in those empty spaces.\n",
    "#3:Check if that digit is valid in the current spot based on the current board.\n",
    "#4:Repeat steps 1-3 if digit is valid. Otherwise, reset the square you just filled and go back to step 3.\n",
    "#5:Backtrack. Once the board is full by the definition of this algorithm we have found a solution\n",
    "#For this board 0 = empty space.\n",
    "\n",
    "board = [\n",
    "    [7,8,0,4,0,0,1,2,0],\n",
    "    [6,0,0,0,7,5,0,0,9],\n",
    "    [0,0,0,6,0,1,0,7,8],\n",
    "    [0,0,7,0,4,0,2,6,0],\n",
    "    [0,0,1,0,5,0,9,3,0],\n",
    "    [9,0,4,0,6,0,0,0,5],\n",
    "    [0,7,0,3,0,0,0,1,2],\n",
    "    [1,2,0,0,0,7,4,0,0],\n",
    "    [0,4,9,2,0,6,0,0,7]\n",
    "]\n",
    "\n",
    "def print_board(bd):\n",
    "            \n",
    "    for i in range(len(bd)):\n",
    "        if i % 3 == 0 and i != 0:\n",
    "            print(\"- - - - - - - - - - - -  \")\n",
    "            #The lines will seperate the 9 sections of the board vertically.\n",
    "            \n",
    "        for j in range(len(bd[0])):\n",
    "            if j % 3 == 0 and j != 0:\n",
    "                print(\" | \", end=\"\")\n",
    "                #The lines will seperate the 9 sections of the board horizontally.\n",
    "                \n",
    "            if j == 8:\n",
    "                print(bd[i][j])\n",
    "                    \n",
    "            else:\n",
    "                print(str(bd[i][j]) + \" \", end =\"\")\n",
    "                \n",
    "#Let's create a function that will find the empty spaces on the board\n",
    "def find_empty(bd):\n",
    "    for in in range(len(bd)):\n",
    "        for j in range(len(bd[0])):\n",
    "            if bd[i][j] == 0:\n",
    "                return (i, j) # row, col\n",
    "            #Normally you'd return row then column (x,y). We'll be returning column then row (y,x).\n",
    "            \n",
    "    return None      "
   ]
  },
  {
   "cell_type": "code",
   "execution_count": null,
   "id": "581ade30",
   "metadata": {},
   "outputs": [],
   "source": []
  }
 ],
 "metadata": {
  "kernelspec": {
   "display_name": "Python 3 (ipykernel)",
   "language": "python",
   "name": "python3"
  },
  "language_info": {
   "codemirror_mode": {
    "name": "ipython",
    "version": 3
   },
   "file_extension": ".py",
   "mimetype": "text/x-python",
   "name": "python",
   "nbconvert_exporter": "python",
   "pygments_lexer": "ipython3",
   "version": "3.9.7"
  }
 },
 "nbformat": 4,
 "nbformat_minor": 5
}
